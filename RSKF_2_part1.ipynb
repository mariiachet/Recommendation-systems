{
  "nbformat": 4,
  "nbformat_minor": 0,
  "metadata": {
    "colab": {
      "provenance": []
    },
    "kernelspec": {
      "name": "python3",
      "display_name": "Python 3"
    },
    "language_info": {
      "name": "python"
    }
  },
  "cells": [
    {
      "cell_type": "code",
      "source": [
        "import pandas as pd\n",
        "import os\n",
        "\n",
        "# Определение путей к файлам\n",
        "ratings_file = \"/content/u.data\"\n",
        "movies_file = \"/content/u.item\"\n",
        "users_file = \"/content/u.user\""
      ],
      "metadata": {
        "id": "gWTpAgNI9D8I"
      },
      "execution_count": 60,
      "outputs": []
    },
    {
      "cell_type": "code",
      "source": [
        "# Определение названий колонок\n",
        "ratings_columns = ['user_id', 'item_id', 'rating', 'timestamp']\n",
        "movies_columns = ['item_id', 'title']\n",
        "users_columns = ['user_id', 'age', 'gender', 'occupation', 'zip_code']\n",
        "\n",
        "# Загрузка данных\n",
        "ratings = pd.read_csv(ratings_file, sep='\\t', names=ratings_columns, encoding='latin-1')\n",
        "movies = pd.read_csv(movies_file, sep='|', names=movies_columns, usecols=[0, 1], encoding='latin-1')\n",
        "users = pd.read_csv(users_file, sep='|', names=users_columns, encoding='latin-1')\n",
        "\n",
        "# Объединение данных о рейтингах, фильмах и пользователях\n",
        "data = pd.merge(ratings, movies, on='item_id')\n",
        "data = pd.merge(data, users, on='user_id')\n",
        "\n",
        "# Вывод структуры данных\n",
        "print(\"Структура данных:\")\n",
        "print(data.head())\n",
        "\n",
        "# Проверка и удаление пропущенных значений\n",
        "print(f\"\\nКоличество пропущенных значений:\\n{data.isnull().sum()}\")\n",
        "data.dropna(inplace=True)\n",
        "\n",
        "# Фильтрация неактивных пользователей и фильмов\n",
        "# Пользователи с менее чем 5 оценками удаляются\n",
        "active_users = data.groupby('user_id').size()\n",
        "data = data[data['user_id'].isin(active_users[active_users >= 5].index)]\n",
        "\n",
        "# Фильмы с менее чем 3 оценками удаляются\n",
        "popular_movies = data.groupby('item_id').size()\n",
        "data = data[data['item_id'].isin(popular_movies[popular_movies >= 3].index)]\n",
        "\n",
        "# Вывод итогового размера данных\n",
        "print(f\"\\nРазмер очищенного набора данных: {data.shape}\")\n",
        "\n",
        "# Сохранение обработанных данных\n",
        "processed_file = \"/content/processed_movielens.csv\"\n",
        "data.to_csv(processed_file, index=False)\n"
      ],
      "metadata": {
        "colab": {
          "base_uri": "https://localhost:8080/"
        },
        "id": "YiJXibfD9KJr",
        "outputId": "c6ae0cff-b2ad-4974-bc1e-6399f7f804ec"
      },
      "execution_count": 61,
      "outputs": [
        {
          "output_type": "stream",
          "name": "stdout",
          "text": [
            "Структура данных:\n",
            "   user_id  item_id  rating  timestamp                       title  age  \\\n",
            "0      196      242       3  881250949                Kolya (1996)   49   \n",
            "1      186      302       3  891717742    L.A. Confidential (1997)   39   \n",
            "2       22      377       1  878887116         Heavyweights (1994)   25   \n",
            "3      244       51       2  880606923  Legends of the Fall (1994)   28   \n",
            "4      166      346       1  886397596         Jackie Brown (1997)   47   \n",
            "\n",
            "  gender  occupation zip_code  \n",
            "0      M      writer    55105  \n",
            "1      F   executive    00000  \n",
            "2      M      writer    40206  \n",
            "3      M  technician    80525  \n",
            "4      M    educator    55113  \n",
            "\n",
            "Количество пропущенных значений:\n",
            "user_id       0\n",
            "item_id       0\n",
            "rating        0\n",
            "timestamp     0\n",
            "title         0\n",
            "age           0\n",
            "gender        0\n",
            "occupation    0\n",
            "zip_code      0\n",
            "dtype: int64\n",
            "\n",
            "Размер очищенного набора данных: (99723, 9)\n"
          ]
        }
      ]
    },
    {
      "cell_type": "code",
      "source": [
        "import pandas as pd\n",
        "from sklearn.metrics.pairwise import cosine_similarity\n",
        "import numpy as np\n",
        "\n",
        "# Загрузка обработанного датасета\n",
        "data_path = \"/content/processed_movielens.csv\"\n",
        "data = pd.read_csv(data_path)"
      ],
      "metadata": {
        "id": "UUjEwRXu9SKr"
      },
      "execution_count": 47,
      "outputs": []
    },
    {
      "cell_type": "markdown",
      "source": [
        "2.1. Построить матрицу взаимодействий (User-Item), где строки — это пользователи, а столбцы — это товары (например, фильмы), значения — оценки или количество взаимодействий.\n",
        "\n",
        "2.2. Реализовать алгоритм коллаборативной фильтрации на основе сходства пользователей или товаров:\n",
        "\n",
        "**User-based:** Находить похожих пользователей на основе их оценок.\n",
        "\n",
        "**Item-based:** Находить похожие товары на основе оценок пользователей.\n"
      ],
      "metadata": {
        "id": "vi_Vtr0b_Ikq"
      }
    },
    {
      "cell_type": "code",
      "source": [
        "# Создание матрицы взаимодействий (пользователи x фильмы)\n",
        "interaction_matrix = data.pivot_table(index='user_id', columns='title', values='rating')\n",
        "\n",
        "# Заполнение пропусков средним значением по строкам\n",
        "interaction_matrix = interaction_matrix.apply(lambda row: row.fillna(row.mean()), axis=1)\n",
        "\n",
        "# --- User-based коллаборативная фильтрация ---\n",
        "# Вычисление сходства пользователей на основе косинусного расстояния\n",
        "user_similarity = cosine_similarity(interaction_matrix)\n",
        "user_similarity_df = pd.DataFrame(user_similarity, index=interaction_matrix.index, columns=interaction_matrix.index)\n",
        "\n",
        "# --- Item-based коллаборативная фильтрация ---\n",
        "# Вычисление сходства товаров на основе оценок пользователей\n",
        "item_similarity = cosine_similarity(interaction_matrix.T)\n",
        "item_similarity_df = pd.DataFrame(item_similarity, index=interaction_matrix.columns, columns=interaction_matrix.columns)\n"
      ],
      "metadata": {
        "id": "Zmqz1Hqv9uwT"
      },
      "execution_count": 48,
      "outputs": []
    },
    {
      "cell_type": "code",
      "source": [
        "# Функция для поиска похожих пользователей\n",
        "def get_similar_users(user_id, top_n=5):\n",
        "    similar_users = user_similarity_df[user_id].sort_values(ascending=False).iloc[1:top_n+1]\n",
        "    return similar_users\n",
        "\n",
        "# Функция для поиска похожих фильмов\n",
        "def get_similar_items(movie_title, top_n=5):\n",
        "    similar_items = item_similarity_df[movie_title].sort_values(ascending=False).iloc[1:top_n+1]\n",
        "    return similar_items\n",
        "\n",
        "# Пример использования:\n",
        "user_id = 15\n",
        "movie_title = \"Star Wars (1977)\"\n",
        "\n",
        "print(f\"Похожие пользователи для {user_id}:\\n\", get_similar_users(user_id),\"\\n\")\n",
        "print(f\"Похожие фильмы для {movie_title}:\\n\", get_similar_items(movie_title),\"\\n\")"
      ],
      "metadata": {
        "colab": {
          "base_uri": "https://localhost:8080/"
        },
        "id": "YtfIf6Zo9z_v",
        "outputId": "da59eff5-cb99-4951-f0a9-fc577e69de9a"
      },
      "execution_count": 49,
      "outputs": [
        {
          "output_type": "stream",
          "name": "stdout",
          "text": [
            "Похожие пользователи для 15:\n",
            " user_id\n",
            "794    0.992895\n",
            "482    0.992612\n",
            "700    0.992502\n",
            "596    0.992500\n",
            "791    0.992465\n",
            "Name: 15, dtype: float64 \n",
            "\n",
            "Похожие фильмы для Star Wars (1977):\n",
            " title\n",
            "Return of the Jedi (1983)          0.987279\n",
            "Empire Strikes Back, The (1980)    0.986843\n",
            "Raiders of the Lost Ark (1981)     0.983069\n",
            "Man of the Year (1995)             0.982289\n",
            "Fresh (1994)                       0.982272\n",
            "Name: Star Wars (1977), dtype: float64 \n",
            "\n"
          ]
        }
      ]
    },
    {
      "cell_type": "markdown",
      "source": [
        "3.1. Для заданного пользователя предсказать оценки для товаров, которые он ещё не оценил, на основе похожих пользователей или товаров.\n",
        "\n",
        "3.2. Выдать пользователю список рекомендованных товаров.\n"
      ],
      "metadata": {
        "id": "oVydjPx4-jsq"
      }
    },
    {
      "cell_type": "code",
      "source": [
        "# Функция для предсказания рейтингов\n",
        "def predict_rating(user_id, movie_title):\n",
        "    if movie_title not in interaction_matrix.columns:\n",
        "        return None  # Фильм отсутствует в базе\n",
        "    similar_users = get_similar_users(user_id, top_n=5)\n",
        "    weighted_ratings = sum(interaction_matrix.loc[sim_user, movie_title] * similarity\n",
        "                           for sim_user, similarity in similar_users.items() if not np.isnan(interaction_matrix.loc[sim_user, movie_title]))\n",
        "    total_similarity = sum(similar_users)\n",
        "    return weighted_ratings / total_similarity if total_similarity > 0 else np.nan\n",
        "\n",
        "# Функция для выдачи рекомендаций пользователю\n",
        "def recommend_movies(user_id, top_n=5):\n",
        "    if user_id not in interaction_matrix.index:\n",
        "        print(f\"Пользователь {user_id} отсутствует в базе.\")\n",
        "        return []\n",
        "\n",
        "    # Найти фильмы, которые пользователь еще не оценил\n",
        "    user_ratings = interaction_matrix.loc[user_id]\n",
        "    unseen_movies = user_ratings[user_ratings.isna()].index.tolist()\n",
        "\n",
        "    if not unseen_movies:\n",
        "        print(f\"Пользователь {user_id} уже оценил все фильмы.\")\n",
        "        return []\n",
        "\n",
        "    # Предсказать оценки для неоцененных фильмов\n",
        "    predicted_ratings = {movie: predict_rating(user_id, movie) for movie in unseen_movies}\n",
        "\n",
        "    # Удалить фильмы с NaN-значениями предсказанных оценок\n",
        "    predicted_ratings = {movie: rating for movie, rating in predicted_ratings.items() if not np.isnan(rating)}\n",
        "\n",
        "    if not predicted_ratings:\n",
        "        print(f\"Не удалось предсказать рейтинги для пользователя {user_id}.\")\n",
        "        return []\n",
        "\n",
        "    # Отсортировать фильмы по предсказанному рейтингу\n",
        "    recommended_movies = sorted(predicted_ratings.items(), key=lambda x: x[1], reverse=True)[:top_n]\n",
        "\n",
        "    return [movie for movie, rating in recommended_movies]\n",
        "\n",
        "\n",
        "# Пример использования:\n",
        "user_id = 187\n",
        "movie_title = \"Star Wars (1977)\"\n",
        "\n",
        "print(f\"Предсказанный рейтинг для фильма {movie_title}: {predict_rating(user_id, movie_title)}\",\"\\n\")\n",
        "print(f\"Рекомендации для пользователя {user_id}: {recommend_movies(user_id)}\",\"\\n\")"
      ],
      "metadata": {
        "colab": {
          "base_uri": "https://localhost:8080/"
        },
        "id": "I2r2Sn6C-izt",
        "outputId": "544916ca-98af-47d3-9ed8-b8e337ee16f5"
      },
      "execution_count": 50,
      "outputs": [
        {
          "output_type": "stream",
          "name": "stdout",
          "text": [
            "Предсказанный рейтинг для фильма Star Wars (1977): 4.368004437397854 \n",
            "\n",
            "Пользователь 187 уже оценил все фильмы.\n",
            "Рекомендации для пользователя 187: [] \n",
            "\n"
          ]
        }
      ]
    },
    {
      "cell_type": "markdown",
      "source": [
        "4.1. Разделить данные на обучающую и тестовую выборки.\n",
        "\n",
        "4.2. Использовать метрики качества для оценки модели, такие как RMSE (Root Mean Squared Error) или MAE (Mean Absolute Error).\n",
        "\n",
        "4.3. Проанализировать результаты и предложить улучшения.\n",
        "Например, варьировать параметры и наблюдать, как изменяются метрики (RMSE, MAE).\n",
        "\n",
        "5.\tПроанализировать недостатки User-based подхода, такие как холодный старт и проблемы со слишком редкими данными.\n",
        "\n",
        "6.\tПерейти к Item-based коллаборативной фильтрации, сравнить результаты.\n"
      ],
      "metadata": {
        "id": "WFlw5LhXAYWK"
      }
    },
    {
      "cell_type": "code",
      "source": [
        "from sklearn.model_selection import train_test_split\n",
        "from sklearn.metrics import mean_squared_error, mean_absolute_error"
      ],
      "metadata": {
        "id": "M3SCyMOlA7xt"
      },
      "execution_count": 51,
      "outputs": []
    },
    {
      "cell_type": "code",
      "source": [
        "# Разделение данных (80% - train, 20% - test)\n",
        "train_data, test_data = train_test_split(data, test_size=0.2, random_state=42)\n",
        "\n",
        "# Создание матрицы пользователь-фильм\n",
        "interaction_matrix = train_data.pivot_table(index='user_id', columns='title', values='rating')\n",
        "\n",
        "# Вычисление средних оценок фильмов\n",
        "movie_means = interaction_matrix.mean(axis=0)"
      ],
      "metadata": {
        "id": "Qj9kAzNYAYpH"
      },
      "execution_count": 52,
      "outputs": []
    },
    {
      "cell_type": "markdown",
      "source": [
        "3. Функция предсказания оценок"
      ],
      "metadata": {
        "id": "Ic7aNf1JAzjC"
      }
    },
    {
      "cell_type": "code",
      "source": [
        "def predict_rating_fast(movie_title):\n",
        "    return movie_means.get(movie_title, np.nan)  # Если фильма нет в данных, вернуть NaN\n"
      ],
      "metadata": {
        "id": "om4w3JeoAvC4"
      },
      "execution_count": 53,
      "outputs": []
    },
    {
      "cell_type": "markdown",
      "source": [
        "4. Вычисление RMSE и MAE"
      ],
      "metadata": {
        "id": "WJtfWkaqBCRW"
      }
    },
    {
      "cell_type": "code",
      "source": [
        "test_data['predicted_rating'] = test_data.apply(lambda row: predict_rating_fast(row['title']), axis=1)\n",
        "\n",
        "# Удаление NaN перед расчетом метрик\n",
        "test_data = test_data.dropna(subset=['predicted_rating'])\n",
        "\n",
        "# Вычисление RMSE и MAE\n",
        "rmse = np.sqrt(mean_squared_error(test_data['rating'], test_data['predicted_rating']))\n",
        "mae = mean_absolute_error(test_data['rating'], test_data['predicted_rating'])\n",
        "\n",
        "print(f\"RMSE: {rmse:.4f}\")\n",
        "print(f\"MAE: {mae:.4f}\")"
      ],
      "metadata": {
        "colab": {
          "base_uri": "https://localhost:8080/"
        },
        "id": "MS6eTuTODwfm",
        "outputId": "48fe4cd3-51e3-49d8-8926-b668113b2496"
      },
      "execution_count": 55,
      "outputs": [
        {
          "output_type": "stream",
          "name": "stdout",
          "text": [
            "RMSE: 1.0169\n",
            "MAE: 0.8117\n"
          ]
        }
      ]
    },
    {
      "cell_type": "markdown",
      "source": [
        "5. Анализ недостатков User-based подхода\n",
        "Холодный старт: если у нового пользователя нет оценок, мы не можем сделать предсказание.\n",
        "Редкость данных: если фильм имеет мало оценок, сложно вычислить среднее значение.\n",
        "Выбор похожих пользователей: косинусное сходство работает плохо, если мало данных.\n"
      ],
      "metadata": {
        "id": "pGiNNAm-FAIg"
      }
    },
    {
      "cell_type": "code",
      "source": [
        "# Анализ разреженности данных\n",
        "sparsity = 1 - (train_data.shape[0] / (train_data['user_id'].nunique() * train_data['title'].nunique()))\n",
        "print(f\"Разреженность матрицы взаимодействий: {sparsity:.2%}\")\n",
        "\n",
        "# Анализ \"холодного старта\" (количество пользователей и фильмов с малым числом оценок)\n",
        "user_activity = train_data.groupby('user_id').size()\n",
        "movie_popularity = train_data.groupby('title').size()\n",
        "\n",
        "cold_start_users = (user_activity < 5).sum()  # Пользователи с менее 5 оценками\n",
        "cold_start_movies = (movie_popularity < 5).sum()  # Фильмы с менее 5 оценками\n",
        "\n",
        "print(f\"Пользователей с недостаточным числом оценок (<5): {cold_start_users}\")\n",
        "print(f\"Фильмов с недостаточным числом оценок (<5): {cold_start_movies}\")\n"
      ],
      "metadata": {
        "colab": {
          "base_uri": "https://localhost:8080/"
        },
        "id": "4j-h1o97FWGq",
        "outputId": "33d3b60f-133c-4c44-ae20-fd11883d7e0f"
      },
      "execution_count": 56,
      "outputs": [
        {
          "output_type": "stream",
          "name": "stdout",
          "text": [
            "Разреженность матрицы взаимодействий: 94.21%\n",
            "Пользователей с недостаточным числом оценок (<5): 0\n",
            "Фильмов с недостаточным числом оценок (<5): 181\n"
          ]
        }
      ]
    },
    {
      "cell_type": "markdown",
      "source": [
        "6. Как улучшить:\n",
        "Использовать Item-based подход: рекомендации на основе схожести фильмов.\n",
        "Учитывать среднюю оценку пользователя при предсказаниях.\n",
        "Добавить матрицу сходства фильмов.\n"
      ],
      "metadata": {
        "id": "rCzgTGAzFuXj"
      }
    },
    {
      "cell_type": "code",
      "source": [
        "from sklearn.metrics.pairwise import cosine_similarity\n",
        "\n",
        "# Создание матрицы \"фильм x пользователь\"\n",
        "item_matrix = train_data.pivot_table(index='title', columns='user_id', values='rating')\n",
        "\n",
        "# Заполнение NaN средним по фильму\n",
        "item_matrix = item_matrix.apply(lambda row: row.fillna(row.mean()), axis=1)\n",
        "\n",
        "# Вычисление сходства между фильмами (Item-based)\n",
        "item_similarity = cosine_similarity(item_matrix)\n",
        "item_similarity_df = pd.DataFrame(item_similarity, index=item_matrix.index, columns=item_matrix.index)\n",
        "\n",
        "# Функция рекомендации похожих фильмов\n",
        "def get_similar_items(movie_title, top_n=5):\n",
        "    if movie_title not in item_similarity_df.index:\n",
        "        return []\n",
        "    similar_items = item_similarity_df[movie_title].sort_values(ascending=False).iloc[1:top_n+1]\n",
        "    return list(similar_items.index)\n",
        "\n",
        "# Пример: ищем похожие фильмы для \"Star Wars (1977)\"\n",
        "similar_movies = get_similar_items(\"Star Wars (1977)\")\n",
        "print(f\"Фильмы, похожие на 'Star Wars (1977)': {similar_movies}\")\n"
      ],
      "metadata": {
        "colab": {
          "base_uri": "https://localhost:8080/"
        },
        "id": "4JQzsXKNFd83",
        "outputId": "6202ad64-147b-43b4-8770-9ff94e1837f2"
      },
      "execution_count": 59,
      "outputs": [
        {
          "output_type": "stream",
          "name": "stdout",
          "text": [
            "Фильмы, похожие на 'Star Wars (1977)': ['Empire Strikes Back, The (1980)', 'To Be or Not to Be (1942)', 'Man of No Importance, A (1994)', 'Pather Panchali (1955)', 'Moonlight and Valentino (1995)'],\n",
            "\n"
          ]
        }
      ]
    }
  ]
}