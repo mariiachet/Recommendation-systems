{
  "cells": [
    {
      "cell_type": "markdown",
      "metadata": {
        "id": "2qEp9Ras6Y51"
      },
      "source": [
        "1. Загрузка и предобработка данных"
      ]
    },
    {
      "cell_type": "code",
      "source": [
        "import kagglehub\n",
        "import pandas as pd\n",
        "import numpy as np\n",
        "\n",
        "# Загрузка данных\n",
        "path = kagglehub.dataset_download(\"retailrocket/ecommerce-dataset\")\n",
        "print(\"Path to dataset files:\", path)"
      ],
      "metadata": {
        "colab": {
          "base_uri": "https://localhost:8080/"
        },
        "id": "9xSyhAbmGj-p",
        "outputId": "be8cd1ff-023c-444b-9645-6b0feb1e00b1"
      },
      "execution_count": null,
      "outputs": [
        {
          "output_type": "stream",
          "name": "stdout",
          "text": [
            "Warning: Looks like you're using an outdated `kagglehub` version (installed: 0.3.6), please consider upgrading to the latest version (0.3.7).\n",
            "Path to dataset files: /root/.cache/kagglehub/datasets/retailrocket/ecommerce-dataset/versions/2\n"
          ]
        }
      ]
    },
    {
      "cell_type": "code",
      "execution_count": null,
      "metadata": {
        "id": "vhHfhGTmCcnU"
      },
      "outputs": [],
      "source": [
        "# Чтение данных\n",
        "interactions = pd.read_csv(f\"{path}/events.csv\")\n",
        "items = pd.read_csv(f\"{path}/item_properties_part1.csv\")\n",
        "category_tree = pd.read_csv(f\"{path}/category_tree.csv\")\n",
        "\n",
        "# Предобработка данных\n",
        "interactions.drop_duplicates(inplace=True)\n",
        "items.drop_duplicates(inplace=True)\n",
        "category_tree.drop_duplicates(inplace=True)\n",
        "\n",
        "interactions.dropna(inplace=True)\n",
        "items.dropna(inplace=True)\n",
        "category_tree.dropna(inplace=True)\n",
        "\n",
        "# Фильтруем покупки из взаимодействий\n",
        "purchases = interactions[interactions['event'] == 'transaction'][['visitorid', 'itemid']]\n",
        "\n"
      ]
    },
    {
      "cell_type": "code",
      "execution_count": null,
      "metadata": {
        "colab": {
          "base_uri": "https://localhost:8080/"
        },
        "id": "4KxjkVne4URT",
        "outputId": "32dfc436-8409-4ee8-d413-3c0070c88600"
      },
      "outputs": [
        {
          "output_type": "stream",
          "name": "stdout",
          "text": [
            "Топ-10 популярных товаров по количеству покупок:\n",
            "   itemid  purchase_count\n",
            "0  461686             133\n",
            "1  119736              97\n",
            "2  213834              92\n",
            "3  312728              46\n",
            "4    7943              46\n",
            "5  445351              45\n",
            "6   48030              41\n",
            "7  420960              38\n",
            "8  248455              38\n",
            "9   17478              37\n"
          ]
        }
      ],
      "source": [
        "# Анализ данных\n",
        "# Подсчет популярности товаров по количеству покупок\n",
        "popular_items = purchases['itemid'].value_counts().reset_index()\n",
        "popular_items.columns = ['itemid', 'purchase_count']\n",
        "\n",
        "# Вывод топ-10 популярных товаров\n",
        "print(\"Топ-10 популярных товаров по количеству покупок:\")\n",
        "print(popular_items.head(10))\n"
      ]
    },
    {
      "cell_type": "markdown",
      "metadata": {
        "id": "42Eas1MO6bJR"
      },
      "source": [
        "2. Реализация простой рекомендательной системы"
      ]
    },
    {
      "cell_type": "code",
      "execution_count": null,
      "metadata": {
        "colab": {
          "base_uri": "https://localhost:8080/"
        },
        "id": "6D8JgAro6NQa",
        "outputId": "9a9aedc6-0df9-4029-f053-45963c1081ba"
      },
      "outputs": [
        {
          "output_type": "stream",
          "name": "stdout",
          "text": [
            "Рекомендованные товары для пользователя 12345: [461686, 119736, 213834, 312728, 7943, 445351, 48030, 420960, 248455, 17478]\n"
          ]
        }
      ],
      "source": [
        "# Реализация простой рекомендательной системы\n",
        "def recommend_popular_items(user_id, top_n=10):\n",
        "    \"\"\"Функция рекомендует топ-N популярных товаров всем пользователям.\"\"\"\n",
        "    return popular_items.head(top_n)['itemid'].tolist()\n",
        "\n",
        "# Пример использования\n",
        "user_id_example = 12345\n",
        "recommended_items = recommend_popular_items(user_id_example)\n",
        "print(f\"Рекомендованные товары для пользователя {user_id_example}: {recommended_items}\")"
      ]
    },
    {
      "cell_type": "markdown",
      "metadata": {
        "id": "Ufe4rBhU6dOQ"
      },
      "source": [
        "3. Оценка точности рекомендаций"
      ]
    },
    {
      "cell_type": "code",
      "execution_count": null,
      "metadata": {
        "colab": {
          "base_uri": "https://localhost:8080/"
        },
        "id": "fH5v7Vyg6QLn",
        "outputId": "dc2b1436-bd73-498d-9b36-6f0085caeab2"
      },
      "outputs": [
        {
          "output_type": "stream",
          "name": "stdout",
          "text": [
            "Accuracy@10: 0.0060\n",
            "Recall@10: 0.0354\n",
            "Accuracy случайных рекомендаций: 0.0000000000000000000000000000000000000000000000000000000000000000000000000000000000000000000000000000\n",
            "Recall случайных рекомендаций: 0.0000000000\n"
          ]
        }
      ],
      "source": [
        "\n",
        "# Группировка покупок по пользователям\n",
        "user_purchases = purchases.groupby('visitorid')['itemid'].apply(set).reset_index()\n",
        "test_users = user_purchases.sample(n=100, random_state=42)\n",
        "\n",
        "def evaluate_recommendations(test_users, recommend_func, top_n=10):\n",
        "    accuracy_scores = []\n",
        "    recall_scores = []\n",
        "\n",
        "    for _, row in test_users.iterrows():\n",
        "        actual_items = row['itemid']\n",
        "        recommended_items = set(recommend_func(row['visitorid'], top_n))\n",
        "\n",
        "        hits = len(actual_items & recommended_items)\n",
        "        accuracy = hits / top_n if top_n > 0 else 0\n",
        "        recall = hits / len(actual_items) if len(actual_items) > 0 else 0\n",
        "\n",
        "        accuracy_scores.append(accuracy)\n",
        "        recall_scores.append(recall)\n",
        "\n",
        "    return np.mean(accuracy_scores), np.mean(recall_scores)\n",
        "\n",
        "# Функция популярных рекомендаций\n",
        "def recommend_popular_items(user_id, top_n=10):\n",
        "    popular_items = purchases['itemid'].value_counts().index[:top_n]\n",
        "    return popular_items.tolist()\n",
        "\n",
        "accuracy, recall = evaluate_recommendations(test_users, recommend_popular_items, top_n=10)\n",
        "print(f\"Accuracy@10: {accuracy:.4f}\")\n",
        "print(f\"Recall@10: {recall:.4f}\")\n",
        "\n",
        "# Сравнение с случайными рекомендациями\n",
        "def recommend_random_items(user_id, top_n=10):\n",
        "    return np.random.choice(purchases['itemid'].unique(), size=top_n, replace=False).tolist()\n",
        "\n",
        "random_accuracy, random_recall = evaluate_recommendations(test_users, recommend_random_items, top_n=10)\n",
        "print(f\"Accuracy случайных рекомендаций: {random_accuracy:.100f}\")\n",
        "print(f\"Recall случайных рекомендаций: {random_recall:.100f}\")\n"
      ]
    },
    {
      "cell_type": "markdown",
      "metadata": {
        "id": "ZDmJ0Jh_9be9"
      },
      "source": [
        "4. Кастомизированная рекомендательная система"
      ]
    },
    {
      "cell_type": "code",
      "source": [
        "unique_buyers = purchases['visitorid'].unique()\n",
        "print(unique_buyers)"
      ],
      "metadata": {
        "colab": {
          "base_uri": "https://localhost:8080/"
        },
        "id": "CHTBkbERLG23",
        "outputId": "5cb9de5c-00b8-4815-b8ec-1c16bb6c33cf"
      },
      "execution_count": null,
      "outputs": [
        {
          "output_type": "stream",
          "name": "stdout",
          "text": [
            "[ 599528  121688  552148 ... 1155978 1050575  855941]\n"
          ]
        }
      ]
    },
    {
      "cell_type": "code",
      "execution_count": null,
      "metadata": {
        "id": "hev0mp6t8d_H"
      },
      "outputs": [],
      "source": [
        "# Получаем категории товаров из item_properties_part1\n",
        "categories = items[items['property'] == 'category'][['itemid', 'value']]\n",
        "categories.rename(columns={'value': 'category'}, inplace=True)\n",
        "\n",
        "def recommend_personalized_items(user_id, top_n=10):\n",
        "    user_history = purchases[purchases['visitorid'] == user_id]['itemid']\n",
        "\n",
        "    if user_history.empty:\n",
        "        print(\"Нет данных о покупках пользователя.\")\n",
        "        return []\n",
        "\n",
        "    user_categories = categories[categories['itemid'].isin(user_history)]['category']\n",
        "\n",
        "    category_items = categories[categories['category'].isin(user_categories)]['itemid']\n",
        "    category_popular = purchases[purchases['itemid'].isin(category_items)]\n",
        "\n",
        "    personalized_popular = category_popular['itemid'].value_counts().reset_index()\n",
        "    personalized_popular.columns = ['itemid', 'purchase_count']\n",
        "\n",
        "    return personalized_popular.head(top_n)['itemid'].tolist()\n"
      ]
    },
    {
      "cell_type": "code",
      "source": [
        "# Пример вызова функции\n",
        "user_id_example = 855941\n",
        "print(recommend_personalized_items(user_id_example))\n"
      ],
      "metadata": {
        "colab": {
          "base_uri": "https://localhost:8080/"
        },
        "id": "qxkf54lmHQdI",
        "outputId": "d81b449c-0eb8-446d-e1ca-b284713f36a1"
      },
      "execution_count": null,
      "outputs": [
        {
          "output_type": "stream",
          "name": "stdout",
          "text": [
            "[]\n"
          ]
        }
      ]
    }
  ],
  "metadata": {
    "colab": {
      "provenance": []
    },
    "kernelspec": {
      "display_name": "Python 3",
      "name": "python3"
    },
    "language_info": {
      "name": "python"
    }
  },
  "nbformat": 4,
  "nbformat_minor": 0
}